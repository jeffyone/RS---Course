{
 "cells": [
  {
   "cell_type": "code",
   "execution_count": 17,
   "metadata": {},
   "outputs": [
    {
     "name": "stdout",
     "output_type": "stream",
     "text": [
      "[[5 3 0 4]\n",
      " [5 2 0 1]\n",
      " [3 4 0 5]\n",
      " [0 1 3 4]\n",
      " [5 0 2 4]]\n",
      "[[4.99144856 2.99874028 2.02963207 3.98434718]\n",
      " [4.97442825 1.96989878 1.20083581 1.03234727]\n",
      " [3.0065885  3.9700329  2.01034465 4.98576034]\n",
      " [5.87381018 1.0215773  2.91605779 4.00399625]\n",
      " [4.96883243 2.4237447  2.095437   3.95048253]]\n"
     ]
    },
    {
     "data": {
      "image/png": "[encoded data removed]",
      "text/plain": [
       "<Figure size 432x288 with 1 Axes>"
      ]
     },
     "metadata": {
      "needs_background": "light"
     },
     "output_type": "display_data"
    }
   ],
   "source": [
    "from math import *\n",
    "import numpy\n",
    "import matplotlib.pyplot as plt\n",
    "\n",
    "def matrix_factorization(R,P,Q,K,steps=5000,alpha=0.0002,beta=0.02): #Matrix factorization functions，steps：Number of gradient descent；alpha：step size；beta：β。\n",
    "    Q=Q.T                 # The .T operation represents the transpose of the matrix\n",
    "    result=[]\n",
    "    for step in range(steps): #gradient descent\n",
    "        for i in range(len(R)):\n",
    "            for j in range(len(R[i])):\n",
    "                    eij=R[i][j]-numpy.dot(P[i,:],Q[:,j])       # .DOT is for matrix multiplication\n",
    "                    for k in range(K):\n",
    "                      if R[i][j]>0:        #The limit score is greater than zero\n",
    "                        P[i][k]=P[i][k]+alpha*(2*eij*Q[k][j]-beta*P[i][k])   #Add regularization, take the derivative of the loss function, and update the variable P\n",
    "                        Q[k][j]=Q[k][j]+alpha*(2*eij*P[i][k]-beta*Q[k][j])   #Add regularization, take the derivative of the loss function, and update the variable Q\n",
    "        eR=numpy.dot(P,Q)  \n",
    "        e=0\n",
    "        for i in range(len(R)):\n",
    "            for j in range(len(R[i])):\n",
    "              if R[i][j]>0:\n",
    "                    e=e+pow(R[i][j]-numpy.dot(P[i,:],Q[:,j]),2)      #Sum of loss functions\n",
    "                    for k in range(K):\n",
    "                        e=e+(beta/2)*(pow(P[i][k],2)+pow(Q[k][j],2)) #Add the regularized sum of the loss functions\n",
    "        result.append(e)\n",
    "        if e<0.001:           #To determine whether it converges, 0.001 is the threshold value\n",
    "            break\n",
    "    return P,Q.T,result\n",
    "\n",
    "if __name__ == '__main__':   #main function\n",
    "    R=[                 #The original matrix\n",
    "        [5,3,0,4],\n",
    "        [5,2,0,1],\n",
    "        [3,4,0,5],\n",
    "        [0,1,3,4],\n",
    "        [5,0,2,4]\n",
    "    ]\n",
    "    R=numpy.array(R)\n",
    "    N=len(R)    #The number of rows in the original matrix R\n",
    "    M=len(R[0]) #The number of columns in the original matrix R\n",
    "    K=5    #The K value can be changed according to requirements\n",
    "    P=numpy.random.rand(N,K) #Randomly generate a matrix with N rows and K columns\n",
    "    Q=numpy.random.rand(M,K) #Randomly generate a matrix with M rows and K columns\n",
    "    nP,nQ,result=matrix_factorization(R,P,Q,K)\n",
    "    print(R)         #Output original matrix\n",
    "    R_MF=numpy.dot(nP,nQ.T)\n",
    "    print(R_MF)      #Output new matrix\n",
    "    #drawing\n",
    "    plt.plot(range(len(result)),result)\n",
    "    plt.xlabel(\"time\")\n",
    "    plt.ylabel(\"loss\")\n",
    "    plt.show()"
   ]
  },
  {
   "cell_type": "code",
   "execution_count": null,
   "metadata": {},
   "outputs": [],
   "source": []
  },
  {
   "cell_type": "code",
   "execution_count": null,
   "metadata": {},
   "outputs": [],
   "source": []
  }
 ],
 "metadata": {
  "kernelspec": {
   "display_name": "Python 3",
   "language": "python",
   "name": "python3"
  },
  "language_info": {
   "codemirror_mode": {
    "name": "ipython",
    "version": 3
   },
   "file_extension": ".py",
   "mimetype": "text/x-python",
   "name": "python",
   "nbconvert_exporter": "python",
   "pygments_lexer": "ipython3",
   "version": "3.7.3"
  }
 },
 "nbformat": 4,
 "nbformat_minor": 2
}
