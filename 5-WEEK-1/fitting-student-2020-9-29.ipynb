{
 "cells": [
  {
   "cell_type": "markdown",
   "metadata": {},
   "source": [
    "# What then is underfitting, or overfitting for that matter?\n",
    "Let’s train some models that under and overfit data!\n",
    "We’ll start by generating a dataset with sklearn’s “make_classification” function. Each datapoint will have 2 features (so it’s easily plottable) and a label."
   ]
  },
  {
   "cell_type": "code",
   "execution_count": 3,
   "metadata": {},
   "outputs": [
    {
     "data": {
      "text/plain": [
       "<matplotlib.collections.PathCollection at 0x11e8fb5b2e8>"
      ]
     },
     "execution_count": 3,
     "metadata": {},
     "output_type": "execute_result"
    },
    {
     "data": {
      "image/png": "[encoded data removed]",
      "text/plain": [
       "<Figure size 432x288 with 1 Axes>"
      ]
     },
     "metadata": {
      "needs_background": "light"
     },
     "output_type": "display_data"
    }
   ],
   "source": [
    "import numpy as np\n",
    "from sklearn.datasets import make_classification\n",
    "# We didn't need to display all params but I like to see defaults\n",
    "# I've edited some of these\n",
    "X,y = make_classification(\n",
    "    n_samples=30, \n",
    "    n_features=2, \n",
    "    n_informative=2,\n",
    "    n_redundant=0,\n",
    "    n_repeated=0, \n",
    "    n_classes=2, \n",
    "    n_clusters_per_class=2, \n",
    "    weights=None, \n",
    "    flip_y=0.01, \n",
    "    class_sep=1.0, \n",
    "    hypercube=True, \n",
    "    shift=0.0, \n",
    "    scale=1.0, \n",
    "    shuffle=True, \n",
    "    random_state=None\n",
    ")\n",
    "# Split examples by class (positive/negative) to give diff colors\n",
    "pos_feat0 = []\n",
    "pos_feat1 = []\n",
    "neg_feat0 = []\n",
    "neg_feat1 = []\n",
    "for idx,klass in enumerate(y):\n",
    "    if klass == 1:\n",
    "        pos_feat0.append(X[idx][0])\n",
    "        pos_feat1.append(X[idx][1])\n",
    "    else:\n",
    "        neg_feat0.append(X[idx][0])\n",
    "        neg_feat1.append(X[idx][1])\n",
    "# And plot them\n",
    "import matplotlib.pyplot as plt\n",
    "plt.scatter(pos_feat0,pos_feat1, c='blue')\n",
    "plt.scatter(neg_feat0,neg_feat1, c='red')"
   ]
  },
  {
   "cell_type": "markdown",
   "metadata": {},
   "source": [
    "Boom. We have data.\n",
    "Now we’ll walk through the definitions of under and overfitting, then intentionally pick algorithms that will under and over fit the data."
   ]
  },
  {
   "cell_type": "markdown",
   "metadata": {},
   "source": [
    "# Underfitting"
   ]
  },
  {
   "cell_type": "markdown",
   "metadata": {},
   "source": [
    "Underfitting occurs when a statistical model cannot adequately capture the underlying structure of the data.\n",
    "Translation: The model couldn’t find a reliable pattern in the data. That doesn’t mean there isn’t a pattern. Just that the model couldn’t find one."
   ]
  },
  {
   "cell_type": "code",
   "execution_count": 4,
   "metadata": {},
   "outputs": [
    {
     "name": "stderr",
     "output_type": "stream",
     "text": [
      "C:\\ProgramData\\Anaconda3\\lib\\site-packages\\sklearn\\linear_model\\stochastic_gradient.py:166: FutureWarning: max_iter and tol parameters have been added in SGDClassifier in 0.19. If both are left unset, they default to max_iter=5 and tol=None. If tol is not None, max_iter defaults to max_iter=1000. From 0.21, default max_iter will be 1000, and default tol will be 1e-3.\n",
      "  FutureWarning)\n"
     ]
    },
    {
     "data": {
      "image/png": "[encoded data removed]",
      "text/plain": [
       "<Figure size 432x288 with 1 Axes>"
      ]
     },
     "metadata": {
      "needs_background": "light"
     },
     "output_type": "display_data"
    }
   ],
   "source": [
    "from sklearn.linear_model import SGDClassifier\n",
    "model = SGDClassifier()\n",
    "model.fit(X, y)\n",
    "# set min and max values for the x and y axes\n",
    "x_min, x_max = X[:, 0].min() - 1, X[:, 0].max() + 1\n",
    "y_min, y_max = X[:, 1].min() - 1, X[:, 1].max() + 1\n",
    "a = np.arange(x_min, x_max, 0.1)\n",
    "b = np.arange(y_min, y_max, 0.1)\n",
    "# build a grid of each unique combination of x and y\n",
    "xx, yy = np.meshgrid(a, b)\n",
    "# make predictions for every combination of x and y on that grid\n",
    "Z = model.predict(np.c_[xx.ravel(), yy.ravel()])\n",
    "Z = Z.reshape(xx.shape)\n",
    "# draw the classification boundary\n",
    "plt.contourf(xx, yy, Z, alpha=0.4)\n",
    "# adds the points from our training data\n",
    "plt.scatter(X[:, 0], X[:, 1], c=y, s=20, edgecolor='k')\n",
    "plt.show()"
   ]
  },
  {
   "cell_type": "markdown",
   "metadata": {},
   "source": [
    "Perfect. The model did a horrible job of drawing the decision boundary. It’s unable to use features to determine an example’s class. Underfitted!"
   ]
  },
  {
   "cell_type": "markdown",
   "metadata": {},
   "source": [
    "# Overfitting"
   ]
  },
  {
   "cell_type": "markdown",
   "metadata": {},
   "source": [
    "the production of an analysis that corresponds too closely or exactly to a particular set of data, and may therefore fail to fit additional data or predict future observations reliably\n",
    "Translation: The model learns inputted examples but it can’t generalize to other examples."
   ]
  },
  {
   "cell_type": "code",
   "execution_count": 5,
   "metadata": {},
   "outputs": [
    {
     "data": {
      "image/png": "[encoded data removed]",
      "text/plain": [
       "<Figure size 432x288 with 1 Axes>"
      ]
     },
     "metadata": {
      "needs_background": "light"
     },
     "output_type": "display_data"
    }
   ],
   "source": [
    "from sklearn.tree import DecisionTreeClassifier\n",
    "model = DecisionTreeClassifier(max_depth=4)\n",
    "model.fit(X, y)\n",
    "# set min and max values for the x and y axes\n",
    "x_min, x_max = X[:, 0].min() - 1, X[:, 0].max() + 1\n",
    "y_min, y_max = X[:, 1].min() - 1, X[:, 1].max() + 1\n",
    "a = np.arange(x_min, x_max, 0.1)\n",
    "b = np.arange(y_min, y_max, 0.1)\n",
    "# build a grid of each unique combination of x and y\n",
    "xx, yy = np.meshgrid(a, b)\n",
    "# make predictions for every combination of x and y on that grid\n",
    "Z = model.predict(np.c_[xx.ravel(), yy.ravel()])\n",
    "Z = Z.reshape(xx.shape)\n",
    "# draw the classification boundary\n",
    "plt.contourf(xx, yy, Z, alpha=0.4)\n",
    "# adds the points in our training data\n",
    "plt.scatter(X[:, 0], X[:, 1], c=y, s=20, edgecolor='k')\n",
    "plt.show()"
   ]
  },
  {
   "cell_type": "markdown",
   "metadata": {},
   "source": [
    "Beautiful. Another terrible model. It draws boundaries around the examples it should, but the patterns it found make no sense, and probably don’t extrapolate to new examples."
   ]
  },
  {
   "cell_type": "markdown",
   "metadata": {},
   "source": [
    "# Let’s fit the data now just for fun"
   ]
  },
  {
   "cell_type": "code",
   "execution_count": 6,
   "metadata": {},
   "outputs": [
    {
     "name": "stderr",
     "output_type": "stream",
     "text": [
      "C:\\ProgramData\\Anaconda3\\lib\\site-packages\\sklearn\\linear_model\\logistic.py:433: FutureWarning: Default solver will be changed to 'lbfgs' in 0.22. Specify a solver to silence this warning.\n",
      "  FutureWarning)\n"
     ]
    },
    {
     "data": {
      "image/png": "[encoded data removed]",
      "text/plain": [
       "<Figure size 432x288 with 1 Axes>"
      ]
     },
     "metadata": {
      "needs_background": "light"
     },
     "output_type": "display_data"
    }
   ],
   "source": [
    "from sklearn.linear_model import LinearRegression,LogisticRegression\n",
    "model = LogisticRegression()\n",
    "model.fit(X, y)\n",
    "# set min and max values for the x and y axes\n",
    "x_min, x_max = X[:, 0].min() - 1, X[:, 0].max() + 1\n",
    "y_min, y_max = X[:, 1].min() - 1, X[:, 1].max() + 1\n",
    "a = np.arange(x_min, x_max, 0.1)\n",
    "b = np.arange(y_min, y_max, 0.1)\n",
    "# build a grid of each unique combination of x and y\n",
    "xx, yy = np.meshgrid(a, b)\n",
    "# make predictions for every combination of x and y on that grid\n",
    "Z = model.predict(np.c_[xx.ravel(), yy.ravel()])\n",
    "Z = Z.reshape(xx.shape)\n",
    "# draw the classification boundary\n",
    "plt.contourf(xx, yy, Z, alpha=0.4)\n",
    "# adds the points in our training data\n",
    "plt.scatter(X[:, 0], X[:, 1], c=y, s=20, edgecolor='k')\n",
    "plt.title('fitting')\n",
    "plt.show()"
   ]
  },
  {
   "cell_type": "markdown",
   "metadata": {},
   "source": [
    "Great. Not perfect. But much better than the prior 2.\n",
    "There you have it. Under fitting, overfitting, and just plan fitting.\n",
    "We intentionally chose a simplistic 2 feature dataset so you could see decision boundaries on the chart."
   ]
  }
 ],
 "metadata": {
  "kernelspec": {
   "display_name": "Python 3",
   "language": "python",
   "name": "python3"
  },
  "language_info": {
   "codemirror_mode": {
    "name": "ipython",
    "version": 3
   },
   "file_extension": ".py",
   "mimetype": "text/x-python",
   "name": "python",
   "nbconvert_exporter": "python",
   "pygments_lexer": "ipython3",
   "version": "3.7.3"
  }
 },
 "nbformat": 4,
 "nbformat_minor": 4
}
