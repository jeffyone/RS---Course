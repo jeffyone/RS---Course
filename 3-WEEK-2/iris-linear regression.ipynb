{
 "cells": [
  {
   "cell_type": "code",
   "execution_count": 1,
   "metadata": {},
   "outputs": [
    {
     "name": "stderr",
     "output_type": "stream",
     "text": [
      "C:\\ProgramData\\Anaconda3\\lib\\site-packages\\sklearn\\linear_model\\logistic.py:433: FutureWarning: Default solver will be changed to 'lbfgs' in 0.22. Specify a solver to silence this warning.\n",
      "  FutureWarning)\n",
      "C:\\ProgramData\\Anaconda3\\lib\\site-packages\\sklearn\\linear_model\\logistic.py:460: FutureWarning: Default multi_class will be changed to 'auto' in 0.22. Specify the multi_class option to silence this warning.\n",
      "  \"this warning.\", FutureWarning)\n"
     ]
    },
    {
     "data": {
      "text/plain": [
       "<Figure size 640x480 with 1 Axes>"
      ]
     },
     "metadata": {},
     "output_type": "display_data"
    }
   ],
   "source": [
    "# encoding: utf-8\n",
    "from sklearn.linear_model import LogisticRegression\n",
    "import numpy as np\n",
    "from sklearn import model_selection\n",
    "import matplotlib.pyplot as plt\n",
    "import matplotlib as mpl\n",
    "from matplotlib import colors\n",
    "from sklearn.preprocessing import StandardScaler\n",
    "from sklearn.pipeline import Pipeline\n",
    "from sklearn.datasets import load_iris\n",
    "\n",
    "#datasets loading\n",
    "data=load_iris()\n",
    "X ,y=data['data'],data['target']\n",
    "x=X[:,0:2]\n",
    "x_train,x_test,y_train,y_test=model_selection.train_test_split(x,y,random_state=1,test_size=0.3)\n",
    "\n",
    "#training the model\n",
    "classifier=Pipeline([('sc',StandardScaler()),('clf',LogisticRegression())])\n",
    "classifier.fit(x_train,y_train.ravel())\n",
    "\n",
    "#drawing\n",
    "x1_min, x1_max = x[:, 0].min(), x[:, 0].max()\n",
    "x2_min, x2_max = x[:, 1].min(), x[:, 1].max()\n",
    "x1, x2 = np.mgrid[x1_min:x1_max:200j, x2_min:x2_max:200j]\n",
    "grid_test = np.stack((x1.flat, x2.flat), axis=1)\n",
    "grid_hat = classifier.predict(grid_test)\n",
    "grid_hat = grid_hat.reshape(x1.shape)\n",
    "\n",
    "mpl.rcParams['font.sans-serif'] = [u'SimHei']\n",
    "mpl.rcParams['axes.unicode_minus'] = False\n",
    "cm_light = mpl.colors.ListedColormap(['#A0FFA0', '#FFA0A0', '#A0A0FF'])\n",
    "cm_dark = mpl.colors.ListedColormap(['g', 'r', 'b'])\n",
    "alpha=0.5\n",
    "\n",
    "plt.pcolormesh(x1, x2, grid_hat, cmap=cm_light)\n",
    "plt.plot(x[:, 0], x[:, 1], 'o', alpha=alpha, color='blue', markeredgecolor='k')\n",
    "plt.scatter(x_test[:, 0], x_test[:, 1], s=120, facecolors='none', zorder=10)\n",
    "plt.xlabel(u'length', fontsize=13)\n",
    "plt.ylabel(u'width', fontsize=13)\n",
    "plt.xlim(x1_min, x1_max)\n",
    "plt.ylim(x2_min, x2_max)\n",
    "plt.title(u'iris', fontsize=15)\n",
    "plt.grid()\n",
    "plt.show()"
   ]
  },
  {
   "cell_type": "code",
   "execution_count": null,
   "metadata": {},
   "outputs": [],
   "source": []
  }
 ],
 "metadata": {
  "kernelspec": {
   "display_name": "Python 3",
   "language": "python",
   "name": "python3"
  },
  "language_info": {
   "codemirror_mode": {
    "name": "ipython",
    "version": 3
   },
   "file_extension": ".py",
   "mimetype": "text/x-python",
   "name": "python",
   "nbconvert_exporter": "python",
   "pygments_lexer": "ipython3",
   "version": "3.7.3"
  }
 },
 "nbformat": 4,
 "nbformat_minor": 4
}
