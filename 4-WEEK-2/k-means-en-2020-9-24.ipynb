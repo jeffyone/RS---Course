{
 "cells": [
  {
   "cell_type": "code",
   "execution_count": 18,
   "metadata": {},
   "outputs": [
    {
     "data": {
      "image/png": "[encoded data removed]",
      "text/plain": [
       "<Figure size 432x288 with 1 Axes>"
      ]
     },
     "metadata": {
      "needs_background": "light"
     },
     "output_type": "display_data"
    }
   ],
   "source": [
    "import numpy as np\n",
    "import matplotlib.pyplot as plt\n",
    "\n",
    "# dist\n",
    "#def distance(e1, e2):\n",
    "#    return np.sqrt((e1[0]-e2[0])**2+(e1[1]-e2[1])**2)\n",
    "#manhattan distance\n",
    "def distance(e1,e2):\n",
    "    return abs((e1[0]-e2[0])+(e1[1]-e2[1]))\n",
    "\n",
    "# The clustering center\n",
    "def means(arr):\n",
    "    return np.array([np.mean([e[0] for e in arr]), np.mean([e[1] for e in arr])])\n",
    "\n",
    "# The element farthest from A in arr that initializes the cluster center\n",
    "def farthest(k_arr, arr):\n",
    "    f = [0, 0]\n",
    "    max_d = 0\n",
    "    for e in arr:\n",
    "        d = 0\n",
    "        for i in range(k_arr.__len__()):\n",
    "            d = d + np.sqrt(distance(k_arr[i], e))\n",
    "        if d > max_d:\n",
    "            max_d = d\n",
    "            f = e\n",
    "    return f\n",
    "\n",
    "# The element closest to a in arr, used for clustering\n",
    "def closest(a, arr):\n",
    "    c = arr[1]\n",
    "    min_d = distance(a, arr[1])\n",
    "    arr = arr[1:]\n",
    "    for e in arr:\n",
    "        d = distance(a, e)\n",
    "        if d < min_d:\n",
    "            min_d = d\n",
    "            c = e\n",
    "    return c\n",
    "\n",
    "\n",
    "if __name__==\"__main__\":\n",
    "    ##to generate two dimensional random coordinates, and for those of you who have datasets, it's easy to understand arR and change it\n",
    "    ## arr is an array, and each element is a binary array, representing a coordinate\n",
    "    ## arr for example：[ (x1, y1), (x2, y2), (x3, y3) ... ]\n",
    "    arr = np.random.randint(100, size=(100, 1, 2))[:, 0, :]\n",
    "\n",
    "    ## Initializes the cluster center and cluster container\n",
    "    m = 7\n",
    "    r = np.random.randint(arr.__len__() - 1)\n",
    "    k_arr = np.array([arr[r]])\n",
    "    cla_arr = [[]]\n",
    "    for i in range(m-1):\n",
    "        k = farthest(k_arr, arr)\n",
    "        k_arr = np.concatenate([k_arr, np.array([k])])\n",
    "        cla_arr.append([])\n",
    "\n",
    "    ## Iterative clustering\n",
    "    n = 20\n",
    "    cla_temp = cla_arr\n",
    "    for i in range(n):    # Iterative n times\n",
    "        for e in arr:    # Gather every element of the set to the nearest class\n",
    "            ki = 0        # Let's say it's closest to the first center\n",
    "            min_d = distance(e, k_arr[ki])\n",
    "            for j in range(1, k_arr.__len__()):\n",
    "                if distance(e, k_arr[j]) < min_d:    # Find a closer cluster center\n",
    "                    min_d = distance(e, k_arr[j])\n",
    "                    ki = j\n",
    "            cla_temp[ki].append(e)\n",
    "        # Update the cluster center iteratively\n",
    "        for k in range(k_arr.__len__()):\n",
    "            if n - 1 == i:\n",
    "                break\n",
    "            k_arr[k] = means(cla_temp[k])\n",
    "            cla_temp[k] = []\n",
    "\n",
    "    ## Visual presentation\n",
    "    col = ['HotPink', 'Aqua', 'Chartreuse', 'yellow', 'LightSalmon', 'blue','pink','red']\n",
    "    for i in range(m):\n",
    "        plt.scatter(k_arr[i][0], k_arr[i][1], linewidth=10, color=col[i])\n",
    "        plt.scatter([e[0] for e in cla_temp[i]], [e[1] for e in cla_temp[i]], color=col[i])\n",
    "    plt.show()\n"
   ]
  },
  {
   "cell_type": "code",
   "execution_count": null,
   "metadata": {},
   "outputs": [],
   "source": [
    "\n"
   ]
  },
  {
   "cell_type": "code",
   "execution_count": null,
   "metadata": {},
   "outputs": [],
   "source": []
  }
 ],
 "metadata": {
  "kernelspec": {
   "display_name": "Python 3",
   "language": "python",
   "name": "python3"
  },
  "language_info": {
   "codemirror_mode": {
    "name": "ipython",
    "version": 3
   },
   "file_extension": ".py",
   "mimetype": "text/x-python",
   "name": "python",
   "nbconvert_exporter": "python",
   "pygments_lexer": "ipython3",
   "version": "3.7.3"
  }
 },
 "nbformat": 4,
 "nbformat_minor": 4
}
