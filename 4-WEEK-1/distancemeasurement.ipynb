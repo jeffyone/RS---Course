{
 "cells": [
  {
   "cell_type": "code",
   "execution_count": 9,
   "metadata": {},
   "outputs": [
    {
     "name": "stdout",
     "output_type": "stream",
     "text": [
      "A\n"
     ]
    }
   ],
   "source": [
    "import numpy\n",
    "import operator\n",
    " \n",
    " \n",
    "def createDataSet():\n",
    "    group = numpy.array([[1.0, 1.1], [1.0, 1.0], [0, 0], [0, 0.1]])\n",
    "    labels = ['A', 'A', 'B', 'B']\n",
    "    return group, labels\n",
    " \n",
    " \n",
    "def classify0(inX, dataSet, labels, k):\n",
    "    dataSetSize = dataSet.shape[0]\n",
    "    diffMat = numpy.tile(inX, (dataSetSize, 1)) - dataSet\n",
    "    #sqDiffMat = diffMat ** 2\n",
    "    #sqDistances = sqDiffMat.sum(axis=1)\n",
    "    #distances = sqDistances ** 0.5\n",
    "    #sqDiffMat=diffMat**3\n",
    "    #sqDistances = sqDiffMat.sum(axis=1)\n",
    "    #distances = sqDistances ** (1/3)\n",
    "    sqDiffMat = abs(diffMat) \n",
    "    distances = sqDiffMat.sum(axis=1)\n",
    "    \n",
    "    \n",
    "    sortedDistIndicies = distances.argsort()\n",
    "    classCount={}\n",
    "    for i in range(k):\n",
    "        voteIlabel = labels[sortedDistIndicies[i]]\n",
    "        classCount[voteIlabel] = classCount.get(voteIlabel, 0) + 1\n",
    "    sortedClassCount = sorted(classCount.items(), key=operator.itemgetter(1), reverse=True)\n",
    "    return sortedClassCount[0][0]\n",
    " \n",
    " \n",
    "data_set, labels = createDataSet()\n",
    "result = classify0([1, 0], data_set, labels, 4)\n",
    "print(result)"
   ]
  },
  {
   "cell_type": "code",
   "execution_count": null,
   "metadata": {},
   "outputs": [],
   "source": []
  }
 ],
 "metadata": {
  "kernelspec": {
   "display_name": "Python 3",
   "language": "python",
   "name": "python3"
  },
  "language_info": {
   "codemirror_mode": {
    "name": "ipython",
    "version": 3
   },
   "file_extension": ".py",
   "mimetype": "text/x-python",
   "name": "python",
   "nbconvert_exporter": "python",
   "pygments_lexer": "ipython3",
   "version": "3.7.3"
  }
 },
 "nbformat": 4,
 "nbformat_minor": 2
}
